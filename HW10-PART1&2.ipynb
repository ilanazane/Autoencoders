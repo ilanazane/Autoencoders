{
 "cells": [
  {
   "cell_type": "markdown",
   "id": "330859a7",
   "metadata": {},
   "source": [
    "# Import "
   ]
  },
  {
   "cell_type": "code",
   "execution_count": 72,
   "id": "55a556e8",
   "metadata": {},
   "outputs": [],
   "source": [
    "from keras.layers import Input, Dense,Flatten, LeakyReLU as LR,Dropout,Activation,Reshape,Conv2D,UpSampling2D,MaxPooling2D\n",
    "from keras.models import Model\n",
    "from keras.datasets import mnist\n",
    "import numpy as np\n",
    "import matplotlib.pyplot as plt\n",
    "from keras import layers\n",
    "from keras.models import Sequential\n",
    "import itertools"
   ]
  },
  {
   "cell_type": "code",
   "execution_count": 73,
   "id": "0b56b0ef",
   "metadata": {},
   "outputs": [],
   "source": [
    "encoding_dim = 32  # 32 floats -> compression of factor 24.5, assuming the input is 784 floats"
   ]
  },
  {
   "cell_type": "code",
   "execution_count": 74,
   "id": "f7912d91",
   "metadata": {},
   "outputs": [],
   "source": [
    "# this is our input placeholder\n",
    "input_img = Input(shape=(784,))\n",
    "\n",
    "# \"encoded\" is the encoded representation of the input\n",
    "encoded = Dense(encoding_dim, activation='relu')(input_img)\n",
    "\n",
    "# \"decoded\" is the lossy reconstruction of the input\n",
    "decoded = Dense(784, activation='sigmoid')(encoded)\n",
    "\n",
    "autoencoder = Model(input_img, decoded)\n",
    "\n",
    "encoder = Model(input_img, encoded)\n",
    "encoded_input = Input(shape=(encoding_dim,))\n",
    "\n",
    "decoder_layer = autoencoder.layers[-1]\n",
    "decoder = Model(encoded_input, decoder_layer(encoded_input))\n"
   ]
  },
  {
   "cell_type": "code",
   "execution_count": 4,
   "id": "5882c740",
   "metadata": {},
   "outputs": [],
   "source": [
    "autoencoder.compile(optimizer='adam', loss='binary_crossentropy')"
   ]
  },
  {
   "cell_type": "code",
   "execution_count": 5,
   "id": "b2a9bfb2",
   "metadata": {},
   "outputs": [
    {
     "name": "stdout",
     "output_type": "stream",
     "text": [
      "(60000, 784)\n",
      "(10000, 784)\n"
     ]
    }
   ],
   "source": [
    "(x_train, _), (x_test, _) = mnist.load_data()\n",
    "\n",
    "x_train = x_train.astype('float32') / 255.\n",
    "x_test = x_test.astype('float32') / 255.\n",
    "\n",
    "x_train = x_train.reshape((len(x_train), np.prod(x_train.shape[1:])))\n",
    "x_test = x_test.reshape((len(x_test), np.prod(x_test.shape[1:])))\n",
    "\n",
    "print (x_train.shape)\n",
    "print (x_test.shape)"
   ]
  },
  {
   "cell_type": "markdown",
   "id": "d985d0b5",
   "metadata": {},
   "source": [
    "# Train"
   ]
  },
  {
   "cell_type": "code",
   "execution_count": 6,
   "id": "7a0370e6",
   "metadata": {},
   "outputs": [
    {
     "name": "stdout",
     "output_type": "stream",
     "text": [
      "Epoch 1/50\n",
      "235/235 [==============================] - 3s 10ms/step - loss: 0.2757 - val_loss: 0.1904\n",
      "Epoch 2/50\n",
      "235/235 [==============================] - 2s 7ms/step - loss: 0.1700 - val_loss: 0.1517\n",
      "Epoch 3/50\n",
      "235/235 [==============================] - 2s 7ms/step - loss: 0.1428 - val_loss: 0.1328\n",
      "Epoch 4/50\n",
      "235/235 [==============================] - 2s 7ms/step - loss: 0.1278 - val_loss: 0.1207\n",
      "Epoch 5/50\n",
      "235/235 [==============================] - 2s 7ms/step - loss: 0.1177 - val_loss: 0.1123\n",
      "Epoch 6/50\n",
      "235/235 [==============================] - 2s 7ms/step - loss: 0.1107 - val_loss: 0.1065\n",
      "Epoch 7/50\n",
      "235/235 [==============================] - 2s 7ms/step - loss: 0.1056 - val_loss: 0.1022\n",
      "Epoch 8/50\n",
      "235/235 [==============================] - 2s 7ms/step - loss: 0.1019 - val_loss: 0.0991\n",
      "Epoch 9/50\n",
      "235/235 [==============================] - 2s 7ms/step - loss: 0.0992 - val_loss: 0.0969\n",
      "Epoch 10/50\n",
      "235/235 [==============================] - 2s 7ms/step - loss: 0.0974 - val_loss: 0.0954\n",
      "Epoch 11/50\n",
      "235/235 [==============================] - 2s 7ms/step - loss: 0.0962 - val_loss: 0.0943\n",
      "Epoch 12/50\n",
      "235/235 [==============================] - 2s 8ms/step - loss: 0.0953 - val_loss: 0.0938\n",
      "Epoch 13/50\n",
      "235/235 [==============================] - 2s 8ms/step - loss: 0.0948 - val_loss: 0.0933\n",
      "Epoch 14/50\n",
      "235/235 [==============================] - 2s 8ms/step - loss: 0.0944 - val_loss: 0.0929\n",
      "Epoch 15/50\n",
      "235/235 [==============================] - 2s 8ms/step - loss: 0.0942 - val_loss: 0.0927\n",
      "Epoch 16/50\n",
      "235/235 [==============================] - 2s 8ms/step - loss: 0.0940 - val_loss: 0.0926\n",
      "Epoch 17/50\n",
      "235/235 [==============================] - 2s 8ms/step - loss: 0.0938 - val_loss: 0.0925\n",
      "Epoch 18/50\n",
      "235/235 [==============================] - 2s 8ms/step - loss: 0.0937 - val_loss: 0.0924\n",
      "Epoch 19/50\n",
      "235/235 [==============================] - 2s 8ms/step - loss: 0.0936 - val_loss: 0.0923\n",
      "Epoch 20/50\n",
      "235/235 [==============================] - 2s 7ms/step - loss: 0.0935 - val_loss: 0.0922\n",
      "Epoch 21/50\n",
      "235/235 [==============================] - 2s 8ms/step - loss: 0.0934 - val_loss: 0.0922\n",
      "Epoch 22/50\n",
      "235/235 [==============================] - 2s 10ms/step - loss: 0.0934 - val_loss: 0.0921\n",
      "Epoch 23/50\n",
      "235/235 [==============================] - 2s 8ms/step - loss: 0.0933 - val_loss: 0.0920\n",
      "Epoch 24/50\n",
      "235/235 [==============================] - 2s 7ms/step - loss: 0.0933 - val_loss: 0.0921\n",
      "Epoch 25/50\n",
      "235/235 [==============================] - 2s 8ms/step - loss: 0.0932 - val_loss: 0.0920\n",
      "Epoch 26/50\n",
      "235/235 [==============================] - 2s 7ms/step - loss: 0.0932 - val_loss: 0.0919\n",
      "Epoch 27/50\n",
      "235/235 [==============================] - 2s 8ms/step - loss: 0.0931 - val_loss: 0.0919\n",
      "Epoch 28/50\n",
      "235/235 [==============================] - 2s 7ms/step - loss: 0.0931 - val_loss: 0.0919\n",
      "Epoch 29/50\n",
      "235/235 [==============================] - 2s 7ms/step - loss: 0.0931 - val_loss: 0.0919\n",
      "Epoch 30/50\n",
      "235/235 [==============================] - 2s 7ms/step - loss: 0.0930 - val_loss: 0.0918\n",
      "Epoch 31/50\n",
      "235/235 [==============================] - 2s 7ms/step - loss: 0.0930 - val_loss: 0.0919\n",
      "Epoch 32/50\n",
      "235/235 [==============================] - 2s 7ms/step - loss: 0.0930 - val_loss: 0.0918\n",
      "Epoch 33/50\n",
      "235/235 [==============================] - 2s 7ms/step - loss: 0.0930 - val_loss: 0.0918\n",
      "Epoch 34/50\n",
      "235/235 [==============================] - 2s 7ms/step - loss: 0.0929 - val_loss: 0.0918\n",
      "Epoch 35/50\n",
      "235/235 [==============================] - 2s 7ms/step - loss: 0.0929 - val_loss: 0.0918\n",
      "Epoch 36/50\n",
      "235/235 [==============================] - 2s 7ms/step - loss: 0.0929 - val_loss: 0.0918\n",
      "Epoch 37/50\n",
      "235/235 [==============================] - 2s 7ms/step - loss: 0.0929 - val_loss: 0.0917\n",
      "Epoch 38/50\n",
      "235/235 [==============================] - 2s 7ms/step - loss: 0.0929 - val_loss: 0.0919\n",
      "Epoch 39/50\n",
      "235/235 [==============================] - 2s 8ms/step - loss: 0.0928 - val_loss: 0.0917\n",
      "Epoch 40/50\n",
      "235/235 [==============================] - 2s 8ms/step - loss: 0.0928 - val_loss: 0.0918\n",
      "Epoch 41/50\n",
      "235/235 [==============================] - 2s 8ms/step - loss: 0.0928 - val_loss: 0.0916\n",
      "Epoch 42/50\n",
      "235/235 [==============================] - 2s 7ms/step - loss: 0.0928 - val_loss: 0.0917\n",
      "Epoch 43/50\n",
      "235/235 [==============================] - 2s 8ms/step - loss: 0.0928 - val_loss: 0.0917\n",
      "Epoch 44/50\n",
      "235/235 [==============================] - 2s 7ms/step - loss: 0.0928 - val_loss: 0.0916\n",
      "Epoch 45/50\n",
      "235/235 [==============================] - 2s 7ms/step - loss: 0.0928 - val_loss: 0.0916\n",
      "Epoch 46/50\n",
      "235/235 [==============================] - 2s 7ms/step - loss: 0.0927 - val_loss: 0.0916\n",
      "Epoch 47/50\n",
      "235/235 [==============================] - 2s 7ms/step - loss: 0.0927 - val_loss: 0.0916\n",
      "Epoch 48/50\n",
      "235/235 [==============================] - 2s 8ms/step - loss: 0.0927 - val_loss: 0.0916\n",
      "Epoch 49/50\n",
      "235/235 [==============================] - 2s 7ms/step - loss: 0.0927 - val_loss: 0.0916\n",
      "Epoch 50/50\n",
      "235/235 [==============================] - 2s 7ms/step - loss: 0.0927 - val_loss: 0.0916\n"
     ]
    },
    {
     "data": {
      "text/plain": [
       "<keras.callbacks.History at 0x124888d90>"
      ]
     },
     "execution_count": 6,
     "metadata": {},
     "output_type": "execute_result"
    }
   ],
   "source": [
    "autoencoder.fit(x_train, x_train,\n",
    "                epochs=50,\n",
    "                batch_size=256,\n",
    "                shuffle=True,\n",
    "                validation_data=(x_test, x_test))"
   ]
  },
  {
   "cell_type": "code",
   "execution_count": 7,
   "id": "f57edfa1",
   "metadata": {},
   "outputs": [],
   "source": [
    "encoded_imgs = encoder.predict(x_test)\n",
    "decoded_imgs = decoder.predict(encoded_imgs)"
   ]
  },
  {
   "cell_type": "code",
   "execution_count": 8,
   "id": "3899e778",
   "metadata": {},
   "outputs": [
    {
     "data": {
      "image/png": "[encoded data removed]",
      "text/plain": [
       "<Figure size 1440x288 with 20 Axes>"
      ]
     },
     "metadata": {
      "needs_background": "light"
     },
     "output_type": "display_data"
    }
   ],
   "source": [
    "n = 10  # how many digits we will display\n",
    "plt.figure(figsize=(20, 4))\n",
    "for i in range(n):\n",
    "    # display original\n",
    "    ax = plt.subplot(2, n, i + 1)\n",
    "    plt.imshow(x_test[i].reshape(28, 28))\n",
    "    plt.gray()\n",
    "    ax.get_xaxis().set_visible(False)\n",
    "    ax.get_yaxis().set_visible(False)\n",
    "    \n",
    "    # display reconstruction\n",
    "    ax = plt.subplot(2, n, i + 1 + n)\n",
    "    plt.imshow(decoded_imgs[i].reshape(28, 28))\n",
    "    plt.gray()\n",
    "    ax.get_xaxis().set_visible(False)\n",
    "    ax.get_yaxis().set_visible(False)\n",
    "plt.show()"
   ]
  },
  {
   "cell_type": "markdown",
   "id": "4488a55e",
   "metadata": {},
   "source": [
    "# Part I "
   ]
  },
  {
   "cell_type": "code",
   "execution_count": 73,
   "id": "73a6497c",
   "metadata": {},
   "outputs": [],
   "source": [
    "n = len(encoded_imgs)\n",
    "sumOfTest = []\n",
    "sumOfDecoded = []\n",
    "\n",
    "#for each image (encoded and decoded) find the sum of all of the pixels \n",
    "#10000 images \n",
    "for i in range(n):\n",
    "    summedTest = sum(x_test[i])\n",
    "    summedDecoded = sum(decoded_imgs[i])\n",
    "    \n",
    "    #add the summed pixels (integer) to array (10000x1)\n",
    "    sumOfTest.append(summedTest)\n",
    "    sumOfDecoded.append(summedDecoded)\n",
    "    \n",
    "\n",
    "sumOfTest = np.array(sumOfTest)\n",
    "sumOfDecoded = np.array(sumOfDecoded)\n",
    "\n",
    "#difference between test(encoded images) and decoded images \n",
    "difference = sumOfTest - sumOfDecoded\n",
    "print('diff',difference)"
   ]
  },
  {
   "cell_type": "code",
   "execution_count": 72,
   "id": "32ca2dcd",
   "metadata": {},
   "outputs": [],
   "source": [
    "#create dictionary to map each index to its error value \n",
    "Dict = {}\n",
    "\n",
    "for i in range(len(difference)): \n",
    "    #contains 10,000 indices with respective errors \n",
    "    Dict[i] = difference[i]\n",
    "    \n",
    "#sort the dictionary from smallest # (highest error) to lowest error \n",
    "sorting = dict(sorted(Dict.items(), key=lambda item: item[1]))\n",
    "\n",
    "#choose the top ten highest errors from Dictionary \n",
    "x = dict(itertools.islice(sorting.items(), 10))\n",
    "print('Highest Error Images:',x)"
   ]
  },
  {
   "cell_type": "code",
   "execution_count": 71,
   "id": "33b9b773",
   "metadata": {},
   "outputs": [
    {
     "data": {
      "image/png": "[encoded data removed]",
      "text/plain": [
       "<Figure size 1440x288 with 20 Axes>"
      ]
     },
     "metadata": {
      "needs_background": "light"
     },
     "output_type": "display_data"
    },
    {
     "name": "stdout",
     "output_type": "stream",
     "text": [
      "we can see some of the reconstructed images are very low quality in comparison to the original images.\n",
      "For example images 1 and 5 (numbers 4 and 6 respectively) share the general shape with the original images but have a lot of noise\n"
     ]
    }
   ],
   "source": [
    "#turn dictionary into list of indices that contain highest error images \n",
    "indices = list(x)\n",
    "#images displayed\n",
    "n = len(indices)  \n",
    "\n",
    "plt.figure(figsize=(20, 4))\n",
    "for i in range(len(indices)):\n",
    "    #display original\n",
    "    ax = plt.subplot(2, n, i + 1)\n",
    "    plt.imshow(x_test[indices[i]].reshape(28, 28))\n",
    "    plt.gray()\n",
    "    ax.get_xaxis().set_visible(False)\n",
    "    ax.get_yaxis().set_visible(False)\n",
    "    \n",
    "    #display reconstruction\n",
    "    ax = plt.subplot(2, n, i + 1 + n)\n",
    "    plt.imshow(decoded_imgs[indices[i]].reshape(28, 28))\n",
    "    plt.gray()\n",
    "    ax.get_xaxis().set_visible(False)\n",
    "    ax.get_yaxis().set_visible(False)\n",
    "    \n",
    "plt.show()    \n",
    "\n",
    "print('we can see some of the reconstructed images are very low quality in comparison to the original images.')\n",
    "print('For example images 1 and 5 (numbers 4 and 6 respectively) share the general shape with the original images but have a lot of noise')"
   ]
  },
  {
   "cell_type": "markdown",
   "id": "984a7128",
   "metadata": {},
   "source": [
    "# Part II "
   ]
  },
  {
   "cell_type": "code",
   "execution_count": 107,
   "id": "a0db1ac1",
   "metadata": {},
   "outputs": [
    {
     "name": "stdout",
     "output_type": "stream",
     "text": [
      "WARNING:tensorflow:From /usr/local/lib/python3.9/site-packages/tensorflow/python/compat/v2_compat.py:107: disable_resource_variables (from tensorflow.python.ops.variable_scope) is deprecated and will be removed in a future version.\n",
      "Instructions for updating:\n",
      "non-resource variables are not supported in the long term\n"
     ]
    }
   ],
   "source": [
    "import tensorflow._api.v2.compat.v1 as tf \n",
    "tf.disable_v2_behavior()"
   ]
  },
  {
   "cell_type": "code",
   "execution_count": 108,
   "id": "0b055a2f",
   "metadata": {},
   "outputs": [],
   "source": [
    "import pandas as pd\n",
    "from sklearn.model_selection import train_test_split"
   ]
  },
  {
   "cell_type": "code",
   "execution_count": 488,
   "id": "15c7031c",
   "metadata": {},
   "outputs": [],
   "source": [
    "#read in data \n",
    "test = pd.read_csv('data1.csv')\n",
    "#clean data\n",
    "test = np.array(test.iloc[:,0:29].dropna())\n",
    "test[:,0:28] /= np.max(test)"
   ]
  },
  {
   "cell_type": "code",
   "execution_count": 489,
   "id": "2647c663",
   "metadata": {},
   "outputs": [
    {
     "name": "stdout",
     "output_type": "stream",
     "text": [
      "492\n"
     ]
    }
   ],
   "source": [
    "print(len(test[test[:,-1]==1]))"
   ]
  },
  {
   "cell_type": "markdown",
   "id": "1107308e",
   "metadata": {},
   "source": [
    "# Part 2.1 Vanilla Autoencoder\n",
    "## Number of hidden layers nodes = 2\n",
    "## 1 Layer "
   ]
  },
  {
   "cell_type": "code",
   "execution_count": 445,
   "id": "1169d635",
   "metadata": {},
   "outputs": [],
   "source": [
    "# number of hidden layers \n",
    "encoding_dim = 2\n",
    "\n",
    "# input dimensions \n",
    "input_img = Input(shape=(28,))\n",
    "\n",
    "# encoded representation of the input\n",
    "encoded = Dense(encoding_dim, activation='relu')(input_img)\n",
    "\n",
    "# lossy reconstruction of the input\n",
    "# tanh produces better results than sigmoid \n",
    "decoded = Dense(28, activation='tanh')(encoded)\n",
    "\n",
    "autoencoder = Model(input_img, decoded)\n",
    "\n",
    "encoder = Model(input_img, encoded)\n",
    "encoded_input = Input(shape=(encoding_dim,))\n",
    "\n",
    "decoder_layer = autoencoder.layers[-1]\n",
    "decoder = Model(encoded_input, decoder_layer(encoded_input))\n"
   ]
  },
  {
   "cell_type": "code",
   "execution_count": 446,
   "id": "ffdb26e1",
   "metadata": {},
   "outputs": [],
   "source": [
    "autoencoder.compile(optimizer='adam', loss = 'binary_crossentropy')"
   ]
  },
  {
   "cell_type": "code",
   "execution_count": 458,
   "id": "be9e324d",
   "metadata": {},
   "outputs": [],
   "source": [
    "#split training and testing data \n",
    "x_train, x_test, = train_test_split(test, test_size=0.1, random_state=42)\n",
    "#get classes for training and testing \n",
    "colors_train, colors_test = x_train[:,-1], x_test[:,-1]\n",
    "x_train, x_test = x_train[:,:28], x_test[:,:28]\n",
    "\n",
    "\n",
    "x_train = x_train.astype('float32')\n",
    "x_test = x_test.astype('float32')\n",
    "\n"
   ]
  },
  {
   "cell_type": "code",
   "execution_count": 459,
   "id": "ccb8449a",
   "metadata": {},
   "outputs": [
    {
     "name": "stdout",
     "output_type": "stream",
     "text": [
      "Train on 256326 samples\n",
      "Epoch 1/10\n",
      "256326/256326 [==============================] - 4s 17us/sample - loss: -0.0027\n",
      "Epoch 2/10\n",
      "256326/256326 [==============================] - 4s 17us/sample - loss: -0.0026\n",
      "Epoch 3/10\n",
      "256326/256326 [==============================] - 4s 15us/sample - loss: -0.0033\n",
      "Epoch 4/10\n",
      "256326/256326 [==============================] - 4s 15us/sample - loss: -0.0033\n",
      "Epoch 5/10\n",
      "256326/256326 [==============================] - 5s 18us/sample - loss: -0.0031\n",
      "Epoch 6/10\n",
      "256326/256326 [==============================] - 4s 16us/sample - loss: -0.0033\n",
      "Epoch 7/10\n",
      "256326/256326 [==============================] - 4s 15us/sample - loss: -0.0027\n",
      "Epoch 8/10\n",
      "256326/256326 [==============================] - 4s 16us/sample - loss: -0.0025\n",
      "Epoch 9/10\n",
      "256326/256326 [==============================] - 4s 17us/sample - loss: -0.0028\n",
      "Epoch 10/10\n",
      "256326/256326 [==============================] - 4s 16us/sample - loss: -0.0028\n",
      "Model: \"model_109\"\n",
      "_________________________________________________________________\n",
      " Layer (type)                Output Shape              Param #   \n",
      "=================================================================\n",
      " input_71 (InputLayer)       [(None, 28)]              0         \n",
      "                                                                 \n",
      " dense_118 (Dense)           (None, 2)                 58        \n",
      "                                                                 \n",
      " dense_119 (Dense)           (None, 28)                84        \n",
      "                                                                 \n",
      "=================================================================\n",
      "Total params: 142\n",
      "Trainable params: 142\n",
      "Non-trainable params: 0\n",
      "_________________________________________________________________\n"
     ]
    }
   ],
   "source": [
    "# train the model\n",
    "autoencoder.fit(x_train,\n",
    "                x_train,\n",
    "                epochs=10,\n",
    "                batch_size=100,\n",
    "                shuffle=True)\n",
    "\n",
    "autoencoder.summary()"
   ]
  },
  {
   "cell_type": "markdown",
   "id": "07d1b3da",
   "metadata": {},
   "source": [
    "# Part 2.3/ 2.4\n",
    "### Histogram for Vanilla Autoencoder "
   ]
  },
  {
   "cell_type": "code",
   "execution_count": 469,
   "id": "0d91bf3d",
   "metadata": {},
   "outputs": [],
   "source": [
    "zeros = x_test[np.where(colors_test == 0)]\n",
    "ones = x_test[np.where(colors_test == 1)]\n",
    "\n",
    "#encode and reconstruct data for class = 0 and class = 1 \n",
    "encoded_final_zeros = encoder.predict(zeros)\n",
    "decoded_final_zeros = decoder.predict(encoded_final_zeros)\n",
    "\n",
    "encoded_final_ones = encoder.predict(ones)\n",
    "decoded_final_ones = decoder.predict(encoded_final_ones)"
   ]
  },
  {
   "cell_type": "code",
   "execution_count": 479,
   "id": "41ac8cd0",
   "metadata": {},
   "outputs": [
    {
     "data": {
      "image/png": "[encoded data removed]",
      "text/plain": [
       "<Figure size 432x288 with 1 Axes>"
      ]
     },
     "metadata": {
      "needs_background": "light"
     },
     "output_type": "display_data"
    }
   ],
   "source": [
    "#plot \n",
    "x_plot_zeros, y_plot_zeros = encoded_final_zeros[:,0], encoded_final_zeros[:,1]\n",
    "x_plot_ones, y_plot_ones = encoded_final_ones[:,0], encoded_final_ones[:,1]\n",
    "\n",
    "\n",
    "plt.scatter(x_plot_zeros, y_plot_zeros, s = 5, color = 'green')\n",
    "plt.scatter(x_plot_ones, y_plot_ones, s = 5, color = 'red')\n",
    "plt.title('Vanilla Autoencoder')\n",
    "plt.show()"
   ]
  },
  {
   "cell_type": "code",
   "execution_count": 333,
   "id": "3b3afb9a",
   "metadata": {},
   "outputs": [],
   "source": [
    "#error values for autoencoder w/ 1 layer \n",
    "error1 = np.sum(x_test - decoded_final, axis = 1)"
   ]
  },
  {
   "cell_type": "markdown",
   "id": "e20f4ddd",
   "metadata": {},
   "source": [
    "# Part 2.2 Deep Autoencoder\n",
    "## Number of hidden layer nodes = 2 \n",
    "## 2 Layers "
   ]
  },
  {
   "cell_type": "code",
   "execution_count": 542,
   "id": "a766a298",
   "metadata": {},
   "outputs": [],
   "source": [
    "# number of hidden layers \n",
    "encoding_dim_1 = 2\n",
    "encoding_dim_2 = 2\n",
    "\n",
    "\n",
    "# input dimensions \n",
    "input_img = Input(shape=(28,))\n",
    "\n",
    "# encoded representation of the input\n",
    "encoded_1 = Dense(encoding_dim_1, activation='relu')(input_img)\n",
    "encoded_2 = Dense(encoding_dim_2, activation='relu')(encoded_1)\n",
    "\n",
    "\n",
    "# lossy reconstruction of the input\n",
    "# sigmoid activation function produces bad results, tanh is better \n",
    "decoded_1 = Dense(encoding_dim_1, activation='tanh')(encoded_2)\n",
    "decoded_2 = Dense(28, activation='tanh')(decoded_1)\n",
    "\n",
    "\n",
    "autoencoder = Model(input_img, decoded_2)\n",
    "\n",
    "\n",
    "encoder2 = Model(input_img, encoded_2)\n",
    "# encoded input into the decoder\n",
    "encoded_input = Input(shape=(encoding_dim_2,)) \n",
    "\n",
    "\n",
    "\n",
    "decoder_layer_1 = autoencoder.layers[-2]\n",
    "decoder_layer_2 = autoencoder.layers[-1]\n",
    "\n",
    "decoder2 = Model(encoded_input, decoder_layer_2(decoder_layer_1(encoded_input)))\n"
   ]
  },
  {
   "cell_type": "code",
   "execution_count": 543,
   "id": "54689313",
   "metadata": {},
   "outputs": [],
   "source": [
    "autoencoder.compile(optimizer='adam', loss = 'binary_crossentropy')"
   ]
  },
  {
   "cell_type": "code",
   "execution_count": 544,
   "id": "e72b2407",
   "metadata": {},
   "outputs": [],
   "source": [
    "#split training and testing data \n",
    "x_train, x_test, = train_test_split(test, test_size=0.1, random_state=42)\n",
    "#get classes for training and testing \n",
    "colors_train, colors_test = x_train[:,-1], x_test[:,-1]\n",
    "x_train, x_test = x_train[:,:28], x_test[:,:28]\n",
    "\n",
    "\n",
    "x_train = x_train.astype('float32')\n",
    "x_test = x_test.astype('float32')\n"
   ]
  },
  {
   "cell_type": "code",
   "execution_count": 545,
   "id": "fababea9",
   "metadata": {},
   "outputs": [
    {
     "name": "stdout",
     "output_type": "stream",
     "text": [
      "Train on 256326 samples\n",
      "Epoch 1/10\n",
      "256326/256326 [==============================] - 5s 20us/sample - loss: 7.7134e-05\n",
      "Epoch 2/10\n",
      "256326/256326 [==============================] - 4s 17us/sample - loss: 4.1819e-06\n",
      "Epoch 3/10\n",
      "256326/256326 [==============================] - 4s 17us/sample - loss: -2.3596e-05\n",
      "Epoch 4/10\n",
      "256326/256326 [==============================] - 4s 17us/sample - loss: -1.4784e-04\n",
      "Epoch 5/10\n",
      "256326/256326 [==============================] - 4s 17us/sample - loss: -2.4552e-04\n",
      "Epoch 6/10\n",
      "256326/256326 [==============================] - 4s 17us/sample - loss: -6.0113e-04\n",
      "Epoch 7/10\n",
      "256326/256326 [==============================] - 4s 17us/sample - loss: -0.0014\n",
      "Epoch 8/10\n",
      "256326/256326 [==============================] - 4s 17us/sample - loss: -0.0016\n",
      "Epoch 9/10\n",
      "256326/256326 [==============================] - 4s 17us/sample - loss: -0.0013\n",
      "Epoch 10/10\n",
      "256326/256326 [==============================] - 4s 17us/sample - loss: -0.0015\n",
      "Model: \"model_142\"\n",
      "_________________________________________________________________\n",
      " Layer (type)                Output Shape              Param #   \n",
      "=================================================================\n",
      " input_93 (InputLayer)       [(None, 28)]              0         \n",
      "                                                                 \n",
      " dense_160 (Dense)           (None, 2)                 58        \n",
      "                                                                 \n",
      " dense_161 (Dense)           (None, 2)                 6         \n",
      "                                                                 \n",
      " dense_162 (Dense)           (None, 2)                 6         \n",
      "                                                                 \n",
      " dense_163 (Dense)           (None, 28)                84        \n",
      "                                                                 \n",
      "=================================================================\n",
      "Total params: 154\n",
      "Trainable params: 154\n",
      "Non-trainable params: 0\n",
      "_________________________________________________________________\n"
     ]
    }
   ],
   "source": [
    "# train the model\n",
    "autoencoder.fit(x_train,\n",
    "                x_train,\n",
    "                epochs=10,\n",
    "                batch_size=100,\n",
    "                shuffle=True)\n",
    "\n",
    "autoencoder.summary()"
   ]
  },
  {
   "cell_type": "code",
   "execution_count": 546,
   "id": "0df4afa2",
   "metadata": {},
   "outputs": [],
   "source": [
    "zeros = x_test[np.where(colors_test == 0)]\n",
    "ones = x_test[np.where(colors_test == 1)]\n",
    "\n",
    "#encode and reconstruct data for class = 0 and class = 1 \n",
    "encoded_final_zeros = encoder2.predict(zeros)\n",
    "decoded_final_zeros = decoder2.predict(encoded_final_zeros)\n",
    "\n",
    "encoded_final_ones = encoder2.predict(ones)\n",
    "decoded_final_ones = decoder2.predict(encoded_final_ones)"
   ]
  },
  {
   "cell_type": "code",
   "execution_count": 548,
   "id": "d99cf2cb",
   "metadata": {},
   "outputs": [
    {
     "data": {
      "image/png": "[encoded data removed]",
      "text/plain": [
       "<Figure size 432x288 with 1 Axes>"
      ]
     },
     "metadata": {
      "needs_background": "light"
     },
     "output_type": "display_data"
    }
   ],
   "source": [
    "#plot \n",
    "x_plot_zeros, y_plot_zeros = encoded_final_zeros[:,0], encoded_final_zeros[:,1]\n",
    "x_plot_ones, y_plot_ones = encoded_final_ones[:,0], encoded_final_ones[:,1]\n",
    "\n",
    "\n",
    "plt.scatter(x_plot_zeros, y_plot_zeros, s = 5, color = 'green')\n",
    "plt.scatter(x_plot_ones, y_plot_ones, s = 5, color = 'red')\n",
    "plt.xlabel('Node 1')\n",
    "plt.ylabel('Node 2')\n",
    "\n",
    "plt.title('Deep Autoencoder')\n",
    "plt.show()"
   ]
  },
  {
   "cell_type": "code",
   "execution_count": 554,
   "id": "d25eed57",
   "metadata": {},
   "outputs": [
    {
     "name": "stdout",
     "output_type": "stream",
     "text": [
      "0.15722202\n"
     ]
    }
   ],
   "source": [
    "# error values for 2 hidden layer network \n",
    "error2 = np.sum(x_test - decoded_final, axis = 1)\n",
    "print(max(error2))"
   ]
  },
  {
   "cell_type": "markdown",
   "id": "2e199a92",
   "metadata": {},
   "source": [
    "# Histogram of Reconstruction Errors for Layer =1 and Layer = 2 "
   ]
  },
  {
   "cell_type": "code",
   "execution_count": 555,
   "id": "a55719aa",
   "metadata": {},
   "outputs": [
    {
     "data": {
      "image/png": "[encoded data removed]",
      "text/plain": [
       "<Figure size 864x720 with 3 Axes>"
      ]
     },
     "metadata": {
      "needs_background": "light"
     },
     "output_type": "display_data"
    }
   ],
   "source": [
    "\n",
    "bins = np.linspace(-2, 1.75, 50)\n",
    "\n",
    "\n",
    "fig, ax = plt.subplots(3, figsize = (12, 10), sharex = True)\n",
    "ax[0].hist(error1, bins = bins, edgecolor = 'black', alpha = 0.5, label = '1 Node')\n",
    "ax[0].grid(linestyle = '--')\n",
    "ax[0].set_title('1 Hidden Layer')\n",
    "\n",
    "ax[1].hist(error2, bins = bins, color = 'red', edgecolor = 'black', alpha = 0.5, label = '2 Node')\n",
    "ax[1].grid(linestyle = '--')\n",
    "ax[1].set_title('2 Hidden Layers')\n",
    "\n",
    "ax[2].hist(error1, bins = bins, edgecolor = 'black', alpha = 0.5, label = '1 Node')\n",
    "ax[2].hist(error2, bins = bins, color = 'red', edgecolor = 'black', alpha = 0.5, label = '2 Node')\n",
    "ax[2].legend(fontsize = 14)\n",
    "ax[2].set_xlabel('Error', fontsize = 18)\n",
    "ax[2].grid(linestyle = '--')\n",
    "ax[2].set_title('Overlapped Errors')\n",
    "\n",
    "\n",
    "plt.show()"
   ]
  },
  {
   "cell_type": "code",
   "execution_count": 556,
   "id": "a7c91297",
   "metadata": {},
   "outputs": [
    {
     "name": "stdout",
     "output_type": "stream",
     "text": [
      "1.3908905 0.05000235\n",
      "-3.8962757e-05 0.04708063\n"
     ]
    }
   ],
   "source": [
    "print(np.average(error1), np.std(error1))\n",
    "print(np.average(error2), np.std(error2))"
   ]
  },
  {
   "cell_type": "markdown",
   "id": "e60a55ad",
   "metadata": {},
   "source": [
    "we can see from the histogram that the autoencoder with one hidden layer has a higher loss than the autoencoder with two hidden layers"
   ]
  }
 ],
 "metadata": {
  "kernelspec": {
   "display_name": "Python 3 (ipykernel)",
   "language": "python",
   "name": "python3"
  },
  "language_info": {
   "codemirror_mode": {
    "name": "ipython",
    "version": 3
   },
   "file_extension": ".py",
   "mimetype": "text/x-python",
   "name": "python",
   "nbconvert_exporter": "python",
   "pygments_lexer": "ipython3",
   "version": "3.9.10"
  }
 },
 "nbformat": 4,
 "nbformat_minor": 5
}
